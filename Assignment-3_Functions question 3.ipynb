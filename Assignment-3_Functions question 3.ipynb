{
 "cells": [
  {
   "cell_type": "code",
   "execution_count": 1,
   "id": "1638dc5a",
   "metadata": {},
   "outputs": [
    {
     "name": "stdout",
     "output_type": "stream",
     "text": [
      "Enter string:The quick Brow Fox\n",
      " The lower and upper case : (12, 3)\n",
      " Number of Lower case characters is: 12\n",
      " Number of Upper case characters is: 3\n"
     ]
    }
   ],
   "source": [
    "#Write a Python function that accepts a string and calculate the number of upper case letters and lower case letters.\n",
    "#Sample String : 'The quick Brow Fox'\n",
    "#Expected Output :\n",
    "#No. of Upper case characters : 3\n",
    "#No. of Lower case Characters : 12\n",
    "\n",
    "n=input(\"Enter string:\")\n",
    "\n",
    "def count(string):\n",
    "    count1=0\n",
    "    count2=0\n",
    "    for i in string:\n",
    "        if(i.islower()):\n",
    "            count1=count1+1\n",
    "        elif(i.isupper()):\n",
    "            count2=count2+1\n",
    "    return count1,count2\n",
    "x=count(n)\n",
    "print(\" The lower and upper case :\",x)\n",
    "print(\" Number of Lower case characters is:\",x[0])\n",
    "print(\" Number of Upper case characters is:\",x[1])"
   ]
  },
  {
   "cell_type": "code",
   "execution_count": null,
   "id": "c37cc510",
   "metadata": {},
   "outputs": [],
   "source": []
  }
 ],
 "metadata": {
  "kernelspec": {
   "display_name": "Python 3 (ipykernel)",
   "language": "python",
   "name": "python3"
  },
  "language_info": {
   "codemirror_mode": {
    "name": "ipython",
    "version": 3
   },
   "file_extension": ".py",
   "mimetype": "text/x-python",
   "name": "python",
   "nbconvert_exporter": "python",
   "pygments_lexer": "ipython3",
   "version": "3.9.12"
  }
 },
 "nbformat": 4,
 "nbformat_minor": 5
}
